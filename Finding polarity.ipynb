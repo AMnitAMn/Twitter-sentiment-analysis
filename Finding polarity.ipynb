{
 "cells": [
  {
   "cell_type": "markdown",
   "metadata": {},
   "source": [
    "## Calculating Sentiment"
   ]
  },
  {
   "cell_type": "code",
   "execution_count": 1,
   "metadata": {},
   "outputs": [],
   "source": [
    "import pandas as pd\n",
    "from textblob import TextBlob\n",
    "import os"
   ]
  },
  {
   "cell_type": "code",
   "execution_count": 2,
   "metadata": {},
   "outputs": [],
   "source": [
    "COLS = ['tweet_lemmatized', 'polarity', 'subjectivity']"
   ]
  },
  {
   "cell_type": "code",
   "execution_count": 3,
   "metadata": {},
   "outputs": [],
   "source": [
    "def analysis(inputfile, outputfile):\n",
    "    \n",
    "    indf = pd.read_csv(inputfile)\n",
    "    if os.path.exists(outputfile):\n",
    "        outdf = pd.read_csv(outputfile, header=0)\n",
    "    else:\n",
    "        outdf = pd.DataFrame(columns=COLS)\n",
    "        \n",
    "    for text in indf['tweet_lemmatized']:\n",
    "        \n",
    "        new_entry = []\n",
    "        blob = TextBlob(str(text))\n",
    "        Sentiment = blob.sentiment     \n",
    "        polarity = Sentiment.polarity\n",
    "        \n",
    "        if(polarity > 0):\n",
    "            polarity = 1\n",
    "        if(polarity < 0):\n",
    "            polarity = -1\n",
    "            \n",
    "        subjectivity = Sentiment.subjectivity\n",
    "        \n",
    "        new_entry += [str(text), polarity, subjectivity]\n",
    "        single_tweet_df = pd.DataFrame([new_entry], columns=COLS)\n",
    "        outdf = outdf.append(single_tweet_df, ignore_index=True)\n",
    "    \n",
    "    csvFile = open(outputfile, 'a' ,encoding='utf-8')\n",
    "    outdf.to_csv(csvFile, index=False)"
   ]
  },
  {
   "cell_type": "code",
   "execution_count": 4,
   "metadata": {},
   "outputs": [],
   "source": [
    "analysis(inputfile = 'CAA_NRC REFINED DATA.csv', outputfile = 'CAA_NRC REFINED DATA with polarity.csv')"
   ]
  },
  {
   "cell_type": "code",
   "execution_count": null,
   "metadata": {},
   "outputs": [],
   "source": []
  }
 ],
 "metadata": {
  "kernelspec": {
   "display_name": "Python 3",
   "language": "python",
   "name": "python3"
  },
  "language_info": {
   "codemirror_mode": {
    "name": "ipython",
    "version": 3
   },
   "file_extension": ".py",
   "mimetype": "text/x-python",
   "name": "python",
   "nbconvert_exporter": "python",
   "pygments_lexer": "ipython3",
   "version": "3.7.3"
  }
 },
 "nbformat": 4,
 "nbformat_minor": 2
}
