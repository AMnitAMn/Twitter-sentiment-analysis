{
 "cells": [
  {
   "cell_type": "markdown",
   "metadata": {},
   "source": [
    "### 1. Importing the libraries."
   ]
  },
  {
   "cell_type": "code",
   "execution_count": 2,
   "metadata": {},
   "outputs": [],
   "source": [
    "import tweepy\n",
    "from tweepy import Stream\n",
    "from tweepy import OAuthHandler\n",
    "from tweepy.streaming import StreamListener\n",
    "import json\n",
    "import pandas as pd\n",
    "import csv\n",
    "import os"
   ]
  },
  {
   "cell_type": "markdown",
   "metadata": {},
   "source": [
    "### 2. Setting Twitter Credentials."
   ]
  },
  {
   "cell_type": "code",
   "execution_count": 3,
   "metadata": {},
   "outputs": [],
   "source": [
    "consumer_key = 'consumer_key'\n",
    "consumer_secret = 'consumer_secret'\n",
    "access_key= 'access_key'\n",
    "access_secret = 'access_secret'"
   ]
  },
  {
   "cell_type": "markdown",
   "metadata": {},
   "source": [
    "### 3. Passing the Twitter credentials to tweepy."
   ]
  },
  {
   "cell_type": "code",
   "execution_count": 4,
   "metadata": {},
   "outputs": [],
   "source": [
    "auth = tweepy.OAuthHandler(consumer_key, consumer_secret)\n",
    "auth.set_access_token(access_key, access_secret)\n",
    "api = tweepy.API(auth)"
   ]
  },
  {
   "cell_type": "markdown",
   "metadata": {},
   "source": [
    "### 4. Define columns of the csv file."
   ]
  },
  {
   "cell_type": "code",
   "execution_count": 5,
   "metadata": {},
   "outputs": [],
   "source": [
    "COLS = ['id', 'created_at', 'source', 'original_text', 'lang',\n",
    "'favorite_count', 'retweet_count', 'original_author', 'possibly_sensitive', 'hashtags',\n",
    "'user_mentions', 'place', 'place_coord_boundaries']"
   ]
  },
  {
   "cell_type": "markdown",
   "metadata": {},
   "source": [
    "### 5. Define a function write_tweets for extracting the tweets."
   ]
  },
  {
   "cell_type": "code",
   "execution_count": 6,
   "metadata": {},
   "outputs": [],
   "source": [
    "def write_tweets(keyword, since, until, file):\n",
    "    #If the file exists, then read the existing data from the CSV file.\n",
    "    if os.path.exists(file):\n",
    "        df = pd.read_csv(file, header=0)\n",
    "    else:\n",
    "        df = pd.DataFrame(columns=COLS)\n",
    "    #page attribute in tweepy.cursor and iteration\n",
    "    page = tweepy.Cursor(api.search, q=keyword, count=200,since = since, until = until, include_rts=False).items()\n",
    "    for status in page:\n",
    "        new_entry = []\n",
    "        status = status._json\n",
    "        new_entry += [status['id'], status['created_at'], status['source'], status['text'], status['lang'], status['favorite_count'], status['retweet_count']]\n",
    "        new_entry.append(status['user']['screen_name'])\n",
    "        try:\n",
    "            is_sensitive = status['possibly_sensitive']\n",
    "        except KeyError:\n",
    "            is_sensitive = None\n",
    "        new_entry.append(is_sensitive)\n",
    "        hashtags = \", \".join([hashtag_item['text'] for hashtag_item in status['entities']['hashtags']])\n",
    "        new_entry.append(hashtags) #append the hashtags\n",
    "        mentions = \", \".join([mention['screen_name'] for mention in status['entities']['user_mentions']])\n",
    "        new_entry.append(mentions) #append the user mentions\n",
    "\n",
    "        try:\n",
    "            coordinates = [coord for loc in status['place']   ['bounding_box']['coordinates'] for coord in loc]\n",
    "        except TypeError:\n",
    "            coordinates = None\n",
    "        new_entry.append(coordinates)\n",
    "\n",
    "        try:\n",
    "            location = status['user']['location']\n",
    "        except TypeError:\n",
    "            location = None\n",
    "        new_entry.append(location)\n",
    "        single_tweet_df = pd.DataFrame([new_entry], columns=COLS)\n",
    "        df = df.append(single_tweet_df, ignore_index=True)\n",
    " \n",
    "    csvFile = open(file, 'a' ,encoding='utf-8')\n",
    "    df.to_csv(csvFile, mode='a', columns=COLS, index=False, encoding=\"utf-8\")"
   ]
  },
  {
   "cell_type": "markdown",
   "metadata": {},
   "source": [
    "### 6. Setting arguments for extacting tweets by write_tweet function.\n",
    "movie_keywords = Name of the movie.<br>\n",
    "date_since = Date since which tweets are to be extracted.<br>\n",
    "date_until = Date till which tweets are to be extracted.<br>\n",
    "movie_tweets = Name/Address of Output file.<br>"
   ]
  },
  {
   "cell_type": "code",
   "execution_count": 9,
   "metadata": {},
   "outputs": [],
   "source": [
    "movie_keywords = '#angreziMedium'\n",
    "date_since = \"2020-03-12\"\n",
    "date_until = \"2020-03-13\"\n",
    "movie_tweets = \"angreziMedium.csv\""
   ]
  },
  {
   "cell_type": "markdown",
   "metadata": {},
   "source": [
    "### 7. Calling the function and Extracting tweets."
   ]
  },
  {
   "cell_type": "markdown",
   "metadata": {},
   "source": [
    "This will give us a csv file containing tweets and related data.<br>\n",
    "This might take some time to execute."
   ]
  },
  {
   "cell_type": "code",
   "execution_count": null,
   "metadata": {},
   "outputs": [],
   "source": [
    "write_tweets(movie_keywords, date_since, date_until, movie_tweets)"
   ]
  }
 ],
 "metadata": {
  "kernelspec": {
   "display_name": "Python 3",
   "language": "python",
   "name": "python3"
  },
  "language_info": {
   "codemirror_mode": {
    "name": "ipython",
    "version": 3
   },
   "file_extension": ".py",
   "mimetype": "text/x-python",
   "name": "python",
   "nbconvert_exporter": "python",
   "pygments_lexer": "ipython3",
   "version": "3.7.3"
  },
  "varInspector": {
   "cols": {
    "lenName": 16,
    "lenType": 16,
    "lenVar": 40
   },
   "kernels_config": {
    "python": {
     "delete_cmd_postfix": "",
     "delete_cmd_prefix": "del ",
     "library": "var_list.py",
     "varRefreshCmd": "print(var_dic_list())"
    },
    "r": {
     "delete_cmd_postfix": ") ",
     "delete_cmd_prefix": "rm(",
     "library": "var_list.r",
     "varRefreshCmd": "cat(var_dic_list()) "
    }
   },
   "types_to_exclude": [
    "module",
    "function",
    "builtin_function_or_method",
    "instance",
    "_Feature"
   ],
   "window_display": false
  }
 },
 "nbformat": 4,
 "nbformat_minor": 2
}
